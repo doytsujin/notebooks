{
 "cells": [
  {
   "cell_type": "code",
   "execution_count": 1,
   "metadata": {},
   "outputs": [],
   "source": [
    "import tpn.util as tu"
   ]
  },
  {
   "cell_type": "code",
   "execution_count": 66,
   "metadata": {},
   "outputs": [],
   "source": [
    "from tpn.clipboard import cb"
   ]
  },
  {
   "cell_type": "code",
   "execution_count": 67,
   "metadata": {},
   "outputs": [],
   "source": [
    "size = 1024209543168\n",
    "default_block_size = 65536"
   ]
  },
  {
   "cell_type": "code",
   "execution_count": 68,
   "metadata": {},
   "outputs": [],
   "source": [
    "class Dd(tu.SlotObject):\n",
    "    __slots__ = [\n",
    "        'bs',\n",
    "        'skip',\n",
    "        'seek',\n",
    "        'count',\n",
    "        'skipped_bytes',\n",
    "        'seeked_bytes',\n",
    "        'total_bytes',\n",
    "    ]\n",
    "    def __init__(self, bs, skip, seek, count):\n",
    "        self.bs = int(bs)\n",
    "        self.skip = int(skip)\n",
    "        self.seek = int(seek)\n",
    "        self.count = int(count)\n",
    "        self.skipped_bytes = self.skip * self.count\n",
    "        self.seeked_bytes = self.seek * self.count\n",
    "        self.total_bytes = self.bs * self.count"
   ]
  },
  {
   "cell_type": "code",
   "execution_count": 69,
   "metadata": {},
   "outputs": [],
   "source": [
    "def slice_blocks(size, count):\n",
    "    from math import floor\n",
    "    block_size = floor(size / count)\n",
    "    remainder = size - (block_size * count)\n",
    "    blocks = [ block_size for _ in range(count) ]\n",
    "    blocks[-1] += remainder\n",
    "    return blocks\n",
    "    "
   ]
  },
  {
   "cell_type": "code",
   "execution_count": 70,
   "metadata": {},
   "outputs": [],
   "source": [
    "from tpn.util import is_power_of_2\n",
    "\n",
    "def get_dds(total_bytes, num_procs, block_size=65536, min_block_size=4096):\n",
    "    assert min_block_size < block_size, (min_block_size, block_size)\n",
    "    assert min_block_size > 0, (min_block_size)\n",
    "    assert is_power_of_2(min_block_size), (min_block_size)\n",
    "    assert block_size % min_block_size == 0\n",
    "        \n",
    "    remaining_bytes = total_bytes % block_size\n",
    "    parallel_bytes = total_bytes - remaining_bytes\n",
    "    \n",
    "    is_perfect_fit = (remaining_bytes == 0)\n",
    "    if is_perfect_fit:\n",
    "        actual_procs = num_procs\n",
    "        remaining_block_count = 0\n",
    "        remaining_block_multiplier = 0\n",
    "    else:\n",
    "        actual_procs = num_procs + 1\n",
    "        assert remaining_bytes % min_block_size == 0, (remaining_bytes % min_block_size)\n",
    "        remaining_block_count = remaining_bytes / min_block_size\n",
    "        remaining_block_multiplier = block_size / min_block_size\n",
    "\n",
    "    assert actual_procs >= 1, actual_procs\n",
    "\n",
    "    parallel_block_count = parallel_bytes / block_size\n",
    "    slices = slice_blocks(parallel_block_count, num_procs)\n",
    "    assert len(slices) == num_procs, (len(slices), num_procs)\n",
    "    #ipdb.set_trace()\n",
    "    \n",
    "    dds = list()\n",
    "    start = 0\n",
    "    end = 0\n",
    "    for (i, slice) in enumerate(slices):\n",
    "        if i == 0:\n",
    "            offset = 0\n",
    "        else:\n",
    "            offset = sum(slices[:i])\n",
    "        count = slices[i]\n",
    "        dd = Dd(\n",
    "            bs=block_size,\n",
    "            skip=offset,\n",
    "            seek=offset,\n",
    "            count=count,\n",
    "        )\n",
    "        dds.append(dd)\n",
    "    \n",
    "    if not is_perfect_fit:\n",
    "        offset = sum(slices)\n",
    "        dd = Dd(\n",
    "            bs=min_block_size,\n",
    "            skip=offset,\n",
    "            seek=offset,\n",
    "            count=remaining_block_count\n",
    "        )\n",
    "        dds.append(dd)\n",
    "        \n",
    "    total_check = sum(dd.total_bytes for dd in dds)\n",
    "    assert total_bytes == total_check, (total_bytes, total_check)\n",
    "        \n",
    "    return dds"
   ]
  },
  {
   "cell_type": "code",
   "execution_count": 71,
   "metadata": {},
   "outputs": [],
   "source": [
    "dds = get_dds(size, 12)"
   ]
  },
  {
   "cell_type": "code",
   "execution_count": 72,
   "metadata": {},
   "outputs": [],
   "source": [
    "def convert_dd_to_command(dd, input_file, output_file):\n",
    "    cmd = (\n",
    "        f'dd if={input_file} of={output_file} '\n",
    "        f'bs={dd.bs} skip={dd.skip} seek={dd.seek} '\n",
    "        f'count={dd.count} status=progress &'\n",
    "    )\n",
    "    return cmd"
   ]
  },
  {
   "cell_type": "code",
   "execution_count": 73,
   "metadata": {},
   "outputs": [
    {
     "name": "stdout",
     "output_type": "stream",
     "text": [
      "copied 1238 characters into clipboard...\n",
      "dd if=/dev/nvd0 of=/dev/nvd1 bs=65536 skip=0 seek=0 count=1302349 status=progress &\n",
      "dd if=/dev/nvd0 of=/dev/nvd1 bs=65536 skip=1302349 seek=1302349 count=1302349 status=progress &\n",
      "dd if=/dev/nvd0 of=/dev/nvd1 bs=65536 skip=2604698 seek=2604698 count=1302349 status=progress &\n",
      "dd if=/dev/nvd0 of=/dev/nvd1 bs=65536 skip=3907047 seek=3907047 count=1302349 status=progress &\n",
      "dd if=/dev/nvd0 of=/dev/nvd1 bs=65536 skip=5209396 seek=5209396 count=1302349 status=progress &\n",
      "dd if=/dev/nvd0 of=/dev/nvd1 bs=65536 skip=6511745 seek=6511745 count=1302349 status=progress &\n",
      "dd if=/dev/nvd0 of=/dev/nvd1 bs=65536 skip=7814094 seek=7814094 count=1302349 status=progress &\n",
      "dd if=/dev/nvd0 of=/dev/nvd1 bs=65536 skip=9116443 seek=9116443 count=1302349 status=progress &\n",
      "dd if=/dev/nvd0 of=/dev/nvd1 bs=65536 skip=10418792 seek=10418792 count=1302349 status=progress &\n",
      "dd if=/dev/nvd0 of=/dev/nvd1 bs=65536 skip=11721141 seek=11721141 count=1302349 status=progress &\n",
      "dd if=/dev/nvd0 of=/dev/nvd1 bs=65536 skip=13023490 seek=13023490 count=1302349 status=progress &\n",
      "dd if=/dev/nvd0 of=/dev/nvd1 bs=65536 skip=14325839 seek=14325839 count=1302358 status=progress &\n",
      "dd if=/dev/nvd0 of=/dev/nvd1 bs=4096 skip=15628197 seek=15628197 count=6 status=progress &\n"
     ]
    }
   ],
   "source": [
    "text = '\\n'.join([ convert_dd_to_command(dd, '/dev/nvd0', '/dev/nvd1') for dd in dds ])\n",
    "cb(text)\n",
    "print(text)"
   ]
  },
  {
   "cell_type": "code",
   "execution_count": null,
   "metadata": {},
   "outputs": [],
   "source": []
  }
 ],
 "metadata": {
  "kernelspec": {
   "display_name": "Python 3",
   "language": "python",
   "name": "python3"
  },
  "language_info": {
   "codemirror_mode": {
    "name": "ipython",
    "version": 3
   },
   "file_extension": ".py",
   "mimetype": "text/x-python",
   "name": "python",
   "nbconvert_exporter": "python",
   "pygments_lexer": "ipython3",
   "version": "3.6.7"
  }
 },
 "nbformat": 4,
 "nbformat_minor": 2
}
